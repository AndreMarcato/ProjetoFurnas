{
  "nbformat": 4,
  "nbformat_minor": 0,
  "metadata": {
    "colab": {
      "provenance": [],
      "collapsed_sections": [
        "SGp2hje6yIjE",
        "suv4n9c-76uL",
        "I6HAhxeFT7fy",
        "yulr8WV0WFlJ",
        "_scso8-f-HrR"
      ]
    },
    "kernelspec": {
      "name": "python3",
      "display_name": "Python 3"
    },
    "language_info": {
      "name": "python"
    }
  },
  "cells": [
    {
      "cell_type": "markdown",
      "source": [
        "# 1. Abrir GoogleDrive"
      ],
      "metadata": {
        "id": "SGp2hje6yIjE"
      }
    },
    {
      "cell_type": "code",
      "execution_count": null,
      "metadata": {
        "colab": {
          "base_uri": "https://localhost:8080/"
        },
        "id": "02WpYJU5x6vR",
        "outputId": "6f5169d8-042a-44d3-fcbd-f0da172559e3"
      },
      "outputs": [
        {
          "output_type": "stream",
          "name": "stdout",
          "text": [
            "Drive already mounted at /content/gdrive; to attempt to forcibly remount, call drive.mount(\"/content/gdrive\", force_remount=True).\n",
            "/content\n",
            "['hidr.dat', 'TERM.DAT', 'CLAST.DAT', 'ARQUIVOS.DAT', 'GTMINPAT.DAT', 'MANUTT.DAT', 'EXPT.DAT', 'SHIST.DAT', 'CURVA.DAT', 'REE.DAT', 'format.tmp', 'MENSAG.TMP', 'EXPH.DAT', 'CONFHD.DAT', 'CONFT.DAT', 'DSVAGUA.DAT', 'CVAR.DAT', 'vazoes.dat', 'MODIF.DAT', 'HIDR.DAT', 'mensag.tmp', 'VAZOES.DAT', 'LOSS.DAT', 'ADTERM.DAT', 'AGRINT.DAT', 'GHMIN.DAT', 'PENALID.DAT', 'CASO.DAT', 'C_ADIC.DAT', 'POSTOS.DAT', 'postos.dat', 'RE.DAT', 'FORMAT.TMP', 'DGER.DAT', 'VAZPAST.DAT', 'PATAMAR.DAT', 'SISTEMA.DAT', 'gerado_123314', 'vazpast.dat', 'cvar.dat', 'ghmin.dat', 'ree.dat', 'ConvNomeArqsDados.log', 're.dat', 'pid.txt', 'alertainv.rel', 'consultafcf.rel', 'engthd.dat', 'vazinat.dat', 'vazthd.dat', 'engcont.dat', 'engfiobac.dat', 'engfiob.dat', 'planej.dat', 'engfio.dat', 'engnat.dat', 'LEITURA.TMP', 'x.log', 'energiab.dat', 'energiaf.dat', 'energiaxf.dat', 'energiaaf.dat', 'energiaaf002.dat', 'energiaxf002.dat', 'energiaaf003.dat', 'energiaxf003.dat', 'energiaaf004.dat', 'energiaxf004.dat', 'energiaxf005.dat', 'energiaaf005.dat', 'energiaxf006.dat', 'energiaaf006.dat', 'energiaaf007.dat', 'energiaxf007.dat', 'energiaxf008.dat', 'energiaaf008.dat', 'energiaxf009.dat', 'energiaaf009.dat', 'energiaaf010.dat', 'energiaxf010.dat', 'energiaaf011.dat', 'energiaxf011.dat', 'energiaaf012.dat', 'energiaxf012.dat', 'energiaxf013.dat', 'energiaaf013.dat', 'energiaxf014.dat', 'energiaaf014.dat', 'energiaxf015.dat', 'energiaaf015.dat', 'energiaxf016.dat', 'energiaaf016.dat', 'energiaxf017.dat', 'energiaaf017.dat', 'energiaaf018.dat', 'energiaxf018.dat', 'energiaxf019.dat', 'energiaaf019.dat', 'energiaxf020.dat', 'energiaaf020.dat', 'energiaxf021.dat', 'energiaaf021.dat', 'energiaaf022.dat', 'energiaxf022.dat', 'energiaaf023.dat', 'energiaxf023.dat', 'energiaxf024.dat', 'energiaaf024.dat', 'energiaaf025.dat', 'energiaxf025.dat', 'energiaaf026.dat', 'energiaxf026.dat', 'energiaaf027.dat', 'energiaxf027.dat', 'energiaxf028.dat', 'energiaaf028.dat', 'energiaaf029.dat', 'energiaxf029.dat', 'energiaaf030.dat', 'energiaxf030.dat', 'energiaxf031.dat', 'energiaaf031.dat', 'energiaaf032.dat', 'energiaxf032.dat', 'energiaaf033.dat', 'energiaxf033.dat', 'energiaaf034.dat', 'energiaxf034.dat', 'energiaaf035.dat', 'energiaxf035.dat', 'energiaaf036.dat', 'energiaxf036.dat', 'energiaxf037.dat', 'energiaaf037.dat', 'energiaxf038.dat', 'energiaaf038.dat', 'energiaaf039.dat', 'energiaxf039.dat', 'energiaaf040.dat', 'energiaxf040.dat', 'energiaaf041.dat', 'energiaxf041.dat', 'energiaaf042.dat', 'energiaxf042.dat', 'energiaaf043.dat', 'energiaxf043.dat', 'energiaaf044.dat', 'energiaxf044.dat', 'energiaaf045.dat', 'energiaxf045.dat', 'energiaxf046.dat', 'energiaaf046.dat', 'energiaaf047.dat', 'energiaxf047.dat', 'energiaxf048.dat', 'energiaaf048.dat', 'energiaaf049.dat', 'energiaxf049.dat', 'energiap.dat', 'energiaaf050.dat', 'newdesp.dat', 'newave_0045.log', 'newave_0061.log', 'newave_0053.log', 'newave_0057.log', 'newave_0017.log', 'newave_0001.log', 'newave_0029.log', 'newave_0037.log', 'newave_0025.log', 'newave_0009.log', 'newave_0033.log', 'newave_0049.log', 'newave_0041.log', 'newave_0021.log', 'newave_0005.log', 'newave_0013.log', 'energiaxf050.dat', 'energias.dat', 'energiaxs.dat', 'energiaas.dat', 'cortesh.dat', 'cortese.dat', 'cortes.dat', 'forwarh.dat', 'arq_bases.bin', 'CONVERG.TMP', 'ETAPA.TMP', 'runtrace.dat', 'runstate.dat', 'gerenciamento_PLs.pp2', 'gerenciamento_PLs.pp1', 'newave_ok.log', 'boots.rel', 'forward.dat', 'penalid.dat', 'c_adic.dat', 'expt.dat', 'exph.dat', 'pmo.dat', 'patamar.dat', 'confhd.dat', 'sistema.dat', 'shist.dat', 'clast.dat', 'parp.dat', 'conft.dat', 'gtminpat.dat', 'newave.tim', 'dger.dat', 'manutt.dat', 'agrint.dat', 'dsvagua.dat', 'arquivos.dat', 'prociter.rel', 'modif.dat', 'caso.dat', 'adterm.dat', 'term.dat', 'curva.dat', 'loss.dat', 'BID.DAT', 'CDEFVAR.DAT', 'ELNINO.DAT', 'ENSOAUX.DAT', 'ITAIPU.DAT', 'GTMIN_CCEE_072023.xlsx', 'NewaveMsgPortug.txt', 'selcor.dat', 'tecno.dat', '.ipynb_checkpoints', 'vascao.dat', 'fake.dat', 'fakeh.dat']\n"
          ]
        }
      ],
      "source": [
        "from google.colab import drive\n",
        "import os\n",
        "from google.colab import files\n",
        "import pandas as pd\n",
        "\n",
        "#Montar o Google Drive no Colab com o nome gdrive\n",
        "\n",
        "drive.mount('/content/gdrive')\n",
        "\n",
        "# O comando abaixo mostra qual diretório você está trabalhando momento.\n",
        "print( os.getcwd() )\n",
        "\n",
        "Caminho_do_Arquivo = 'gdrive/My Drive/NewaveJuly2023/'\n",
        "# O comando mostra o que está presente dentro da minha pasta com o deck mais recente do Newave no meu google drive,\n",
        "# que está dentro do meu drive (conta gmail almmarcato). Mudar para o diretório que vocês criaram.\n",
        "print( os.listdir(Caminho_do_Arquivo) )\n",
        "\n"
      ]
    },
    {
      "cell_type": "markdown",
      "source": [
        "# 2. Realiza a leitura do cortesh"
      ],
      "metadata": {
        "id": "u8smbaps7xUL"
      }
    },
    {
      "cell_type": "code",
      "source": [
        "import numpy as np\n",
        "\n",
        "def le_cortesh(nome):\n",
        "  TAM_REG = 11520\n",
        "\n",
        "  file_cortesh = Caminho_do_Arquivo + nome\n",
        "\n",
        "  with open(file_cortesh, 'rb') as f:\n",
        "\n",
        "    # Leitura das informacoes do Primeiro Registro\n",
        "    versao = np.fromfile(f, dtype=np.dtype('i4'), count=1)[0]\n",
        "    lrec = np.fromfile(f, dtype=np.dtype('i4'), count=1)[0]\n",
        "    lrece = np.fromfile(f, dtype=np.dtype('i4'), count=1)[0]\n",
        "    nsis = np.fromfile(f, dtype=np.dtype('i4'), count=1)[0]\n",
        "    npre = np.fromfile(f, dtype=np.dtype('i4'), count=1)[0]\n",
        "    nper = np.fromfile(f, dtype=np.dtype('i4'), count=1)[0]\n",
        "    npst = np.fromfile(f, dtype=np.dtype('i4'), count=1)[0]\n",
        "    npea = np.fromfile(f, dtype=np.dtype('i4'), count=1)[0]\n",
        "    nconf = np.fromfile(f, dtype=np.dtype('i4'), count=1)[0]\n",
        "    nsim = np.fromfile(f, dtype=np.dtype('i4'), count=1)[0]\n",
        "    npmc = np.fromfile(f, dtype=np.dtype('i4'), count=1)[0]\n",
        "    anoi = np.fromfile(f, dtype=np.dtype('i4'), count=1)[0]\n",
        "    mesi = np.fromfile(f, dtype=np.dtype('i4'), count=1)[0]\n",
        "    lagmax = np.fromfile(f, dtype=np.dtype('i4'), count=1)[0]\n",
        "    mecaver = np.fromfile(f, dtype=np.dtype('i4'), count=1)[0]\n",
        "    nsbm = np.fromfile(f, dtype=np.dtype('i4'), count=1)[0]\n",
        "    nnsbm = np.fromfile(f, dtype=np.dtype('i4'), count=1)[0]\n",
        "    BUFFER_SIZE = TAM_REG*4 - 17*4\n",
        "    THEFT1 = f.read(BUFFER_SIZE)\n",
        "\n",
        "    # Pula para o proximo registro\n",
        "    f.seek(TAM_REG * 4, 0)\n",
        "\n",
        "    # Leitura das Informacoes do Segundo Registro\n",
        "    nreg = npre + nper + npst\n",
        "    iptreg = np.fromfile(f, dtype=np.dtype('i4'), count=nreg)\n",
        "    f.seek((TAM_REG - nreg) * 4, 1)\n",
        "\n",
        "    # Leitura das Informacoes do Terceiro Registro\n",
        "    nreg = (nper + 2 * npea) * nsis\n",
        "    mord = np.fromfile(f, dtype=np.dtype('i4'), count=nreg)\n",
        "    BUFFER_SIZE = TAM_REG*4 - nreg*4\n",
        "    THEFT3 = f.read(BUFFER_SIZE)\n",
        "    #f.seek((TAM_REG - nreg) * 4, 1)\n",
        "\n",
        "    # Leitura das Informacoes do Quarto Registro\n",
        "    nreg = npre + nper + npst\n",
        "    pconf = np.fromfile(f, dtype=np.dtype('i4'), count=nreg)\n",
        "    f.seek((TAM_REG - nreg) * 4, 1)\n",
        "\n",
        "    # Leitura das Informacoes do Quinto Registro\n",
        "    nreg = nper * npmc\n",
        "    fpeng = np.fromfile(f, dtype=np.dtype('f8'), count=nreg)\n",
        "\n",
        "    data = f.read()\n",
        "\n",
        "    cortesh = {\n",
        "          'versao': versao,\n",
        "          'lrec': lrec,\n",
        "          'lrece': lrece,\n",
        "          'nsis': nsis,\n",
        "          'npre': npre,\n",
        "          'nper': nper,\n",
        "          'npst': npst,\n",
        "          'npea': npea,\n",
        "          'nconf': nconf,\n",
        "          'nsim': nsim,\n",
        "          'npmc': npmc,\n",
        "          'anoi': anoi,\n",
        "          'mesi': mesi,\n",
        "          'lagmax': lagmax,\n",
        "          'mecaver': mecaver,\n",
        "          'nsbm': nsbm,\n",
        "          'nnsbm': nnsbm,\n",
        "          'iptreg': iptreg,\n",
        "          'mord': mord,\n",
        "          'pconf': pconf,\n",
        "          'fpeng': fpeng,\n",
        "          'data': data,\n",
        "          'theft1': THEFT1,\n",
        "          'theft3': THEFT3\n",
        "    }\n",
        "\n",
        "  return cortesh"
      ],
      "metadata": {
        "id": "Fd_tE1-C6SrD"
      },
      "execution_count": null,
      "outputs": []
    },
    {
      "cell_type": "markdown",
      "source": [
        "# 3. Realiza a Leitura do Cortes"
      ],
      "metadata": {
        "id": "suv4n9c-76uL"
      }
    },
    {
      "cell_type": "code",
      "source": [
        "def le_corte(nome, cortesh, periodo):\n",
        "\n",
        "  file_name_cortes = Caminho_do_Arquivo + nome\n",
        "\n",
        "  # Ordem Máxima do PARP\n",
        "  parp_max = int(np.max(cortesh['mord']))\n",
        "\n",
        "  # Numero de períodos que possuem cortes registrados no arquivo de cortes\n",
        "  # numero de períodos pre + numero de periodos de planejamento + numero de periodos pos\n",
        "  # - mes inicial do periodo de planejamento - 1\n",
        "  # O ultimo período do estudo não possui cortes (funcao de custo futuro)\n",
        "  periodos = cortesh['npre'] + cortesh['nper'] + cortesh['npst'] - cortesh['mesi']\n",
        "\n",
        "  num_reg = periodos * cortesh['nsim'] * 24\n",
        "\n",
        "  # Estrutura para Armazenamento dos Cortes\n",
        "  ireg = np.zeros([num_reg], dtype=np.dtype('i4'))\n",
        "  iter = np.zeros([num_reg], dtype=np.dtype('i4'))\n",
        "  isim = np.zeros([num_reg], dtype=np.dtype('i4'))\n",
        "  dummy = np.zeros([num_reg], dtype=np.dtype('i4'))\n",
        "  rhs = np.zeros([num_reg], dtype=np.dtype('f8'))\n",
        "\n",
        "  piv = np.zeros([num_reg, cortesh['nsis']  ], dtype=np.dtype('f8'))\n",
        "  pih = np.zeros([num_reg, cortesh['nsis'] * parp_max], dtype=np.dtype('f8'))\n",
        "  pig = np.zeros([num_reg, cortesh['nsbm'] * cortesh['npmc'] * cortesh['lagmax']], dtype=np.dtype('f8'))\n",
        "\n",
        "\n",
        "  cortes = None\n",
        "\n",
        "  # Lê o arquivo de cortes para a memoria -- vetor numpy\n",
        "  with open(file_name_cortes, 'rb') as f:\n",
        "\n",
        "    # Registro para Leitura do Arquivo de COrtes\n",
        "    tam_reg = int((cortesh['lrec'] - 4 * 4 - 8 * 1)/8)\n",
        "    struct = np.dtype([('ireg', 'i4'), \\\n",
        "                       ('iter', 'i4'), \\\n",
        "                       ('isim', 'i4'), \\\n",
        "                       ('dummy', 'i4'), \\\n",
        "                       ('rhs', 'f8'), \\\n",
        "                       ('ccorte', 'f8', tam_reg) \\\n",
        "                      ])\n",
        "\n",
        "    # Leitura do arquivo de Cortes\n",
        "    cortes = np.fromfile(f, dtype=struct)\n",
        "\n",
        "  # Inicia p Mapeamento dos Cortes do Periodo\n",
        "  last_cut = cortesh['iptreg'][periodo-1]\n",
        "\n",
        "  icut = -1\n",
        "  while last_cut > 0:\n",
        "    icut += 1\n",
        "    # Proximo Corte\n",
        "    next_cut = int(cortes['ireg'][last_cut-1])\n",
        "\n",
        "    # Termo Independente\n",
        "    rhs[icut] = cortes['rhs'][last_cut-1]\n",
        "\n",
        "    # Coeficiente do Multiplicador de Lagrange das Restricoes de EARM\n",
        "    ini = 0\n",
        "    fim = cortesh['nsis']\n",
        "    piv[icut, :] = cortes['ccorte'][last_cut-1, ini:fim]\n",
        "\n",
        "    # Coeficiente do Multiplicador de Lagrange das Restricoes de EAF\n",
        "    ini = fim\n",
        "    fim = ini + cortesh['nsis'] * parp_max\n",
        "    pih[icut, :] = cortes['ccorte'][last_cut-1, ini:fim]\n",
        "\n",
        "    # Coeficientes do Multiplicador de Lagrange das Restricoes de GNL\n",
        "    ini = fim\n",
        "    fim = ini + cortesh['npmc'] * cortesh['nsbm'] * cortesh['lagmax']\n",
        "    pig[icut, :] = cortes['ccorte'][last_cut-1, ini:fim]\n",
        "\n",
        "    # Atualiza ultimo corte lido\n",
        "    last_cut = next_cut\n",
        "\n",
        "  corte = {\n",
        "      'rhs': rhs,\n",
        "      'piv': piv,\n",
        "      'pih': pih,\n",
        "      'pig': pig\n",
        "  }\n",
        "\n",
        "  return corte"
      ],
      "metadata": {
        "id": "5nlaI5QF8CvU"
      },
      "execution_count": null,
      "outputs": []
    },
    {
      "cell_type": "markdown",
      "source": [
        "# 4. Realiza a escrita do cortesh"
      ],
      "metadata": {
        "id": "hlk14JIp8OxT"
      }
    },
    {
      "cell_type": "code",
      "source": [
        "import struct\n",
        "\n",
        "def escreve_cortesh(nome, cortesh):\n",
        "\n",
        "  TAM_REG = 11520\n",
        "\n",
        "  file_cortesh = Caminho_do_Arquivo + nome\n",
        "\n",
        "  with open(file_cortesh, 'wb') as f:\n",
        "    #\n",
        "    # Escreve primeiro registro\n",
        "    #\n",
        "    versao = cortesh['versao']\n",
        "    lrec = cortesh['lrec']\n",
        "    lrece = cortesh['lrece']\n",
        "    nsis = cortesh['nsis']\n",
        "    npre = cortesh['npre']\n",
        "    nper = cortesh['nper']\n",
        "    npst = cortesh['npst']\n",
        "    npea = cortesh['npea']\n",
        "    nconf = cortesh['nconf']\n",
        "    nsim = cortesh['nsim']\n",
        "    npmc = cortesh['npmc']\n",
        "    anoi = cortesh['anoi']\n",
        "    mesi = cortesh['mesi']\n",
        "    lagmax = cortesh['lagmax']\n",
        "    mecaver = cortesh['mecaver']\n",
        "    nsbm = cortesh['nsbm']\n",
        "    nnsbm = cortesh['nnsbm']\n",
        "    registro = np.array([versao, lrec, lrece, nsis, npre, nper, npst, npea,\n",
        "                       nconf, nsim, npmc, anoi, mesi, lagmax, mecaver,\n",
        "                       nsbm, nnsbm]).astype('i4')\n",
        "    for value in registro:\n",
        "      f.write(struct.pack(\"i\", value))\n",
        "    #registro = np.zeros(TAM_REG-17).astype('i4') # Preenche final registro 1\n",
        "    f.write(cortesh['theft1'])\n",
        "    #for value in registro:\n",
        "    #  f.write(struct.pack(\"i\", value))\n",
        "\n",
        "    #\n",
        "    # Escreve segundo registro\n",
        "    #\n",
        "    nreg = npre + nper + npst\n",
        "    registro = np.array(cortesh['iptreg']).astype('i4')\n",
        "    for value in registro:\n",
        "      f.write(struct.pack(\"i\", value))\n",
        "    registro = np.zeros(TAM_REG-nreg).astype('i4') # Preenche final registro 2\n",
        "    for value in registro:\n",
        "      f.write(struct.pack(\"i\", value))\n",
        "    #\n",
        "    # Escreve terceiro registro\n",
        "    #\n",
        "    nreg = (nper + 2 * npea) * nsis\n",
        "    registro = np.array(cortesh['mord']).astype('i4')\n",
        "    for value in registro:\n",
        "      f.write(struct.pack(\"i\", value))\n",
        "    #registro = np.zeros(TAM_REG-nreg).astype('i4') # Preenche final registro 3\n",
        "    f.write(cortesh['theft3'])\n",
        "    #for value in registro:\n",
        "    #  f.write(struct.pack(\"i\", value))\n",
        "\n",
        "    #\n",
        "    # Escreve quarto registro\n",
        "    #\n",
        "    nreg = npre + nper + npst\n",
        "    registro = np.array(cortesh['pconf']).astype('i4')\n",
        "    for value in registro:\n",
        "      f.write(struct.pack(\"i\", value))\n",
        "    registro = np.zeros(TAM_REG-nreg).astype('i4') # Preenche final registro 4\n",
        "    for value in registro:\n",
        "      f.write(struct.pack(\"i\", value))\n",
        "    #\n",
        "    # Escreve quinto registro\n",
        "    #\n",
        "    nreg = nper * npmc\n",
        "    registro = np.array(cortesh['fpeng']).astype('f8')\n",
        "    for value in registro:\n",
        "        f.write(struct.pack(\"d\", value))\n",
        "    #registro = np.zeros(TAM_REG-nreg).astype('f8') # Preenche final registro 5\n",
        "    #registro = np.zeros(TAM_REG-nreg).astype('f8') # Preenche final registro 5\n",
        "    f.write(cortesh['data'])\n",
        "    #for value in registro:\n",
        "    #    f.write(struct.pack(\"d\", value))\n",
        "\n",
        "    f.close()\n",
        "\n",
        "  return"
      ],
      "metadata": {
        "id": "IQ8-S5wx8OUh"
      },
      "execution_count": null,
      "outputs": []
    },
    {
      "cell_type": "markdown",
      "source": [
        "# 5. Realiza leitura completa do arquivo de cortes.\n",
        "\n"
      ],
      "metadata": {
        "id": "I6HAhxeFT7fy"
      }
    },
    {
      "cell_type": "code",
      "source": [
        "def le_corte_todo(nome, cortesh):\n",
        "\n",
        "  file_name_cortes = Caminho_do_Arquivo + nome\n",
        "\n",
        "  # Ordem Máxima do PARP\n",
        "  parp_max = int(np.max(cortesh['mord']))\n",
        "\n",
        "  # Numero de períodos que possuem cortes registrados no arquivo de cortes\n",
        "  # numero de períodos pre + numero de periodos de planejamento + numero de periodos pos\n",
        "  # - mes inicial do periodo de planejamento - 1\n",
        "  # O ultimo período do estudo não possui cortes (funcao de custo futuro)\n",
        "  periodos = cortesh['npre'] + cortesh['nper'] + cortesh['npst'] - cortesh['mesi']\n",
        "\n",
        "  num_reg = periodos * cortesh['nsim'] * 24\n",
        "\n",
        "  # Estrutura para Armazenamento dos Cortes\n",
        "  ireg = np.zeros([num_reg], dtype=np.dtype('i4'))\n",
        "  iter = np.zeros([num_reg], dtype=np.dtype('i4'))\n",
        "  isim = np.zeros([num_reg], dtype=np.dtype('i4'))\n",
        "  dummy = np.zeros([num_reg], dtype=np.dtype('i4'))\n",
        "  rhs = np.zeros([num_reg], dtype=np.dtype('f8'))\n",
        "\n",
        "  piv = np.zeros([num_reg, cortesh['nsis']  ], dtype=np.dtype('f8'))\n",
        "  pih = np.zeros([num_reg, cortesh['nsis'] * parp_max], dtype=np.dtype('f8'))\n",
        "  pig = np.zeros([num_reg, cortesh['nsbm'] * cortesh['npmc'] * cortesh['lagmax']], dtype=np.dtype('f8'))\n",
        "\n",
        "\n",
        "  cortes = None\n",
        "\n",
        "  # Lê o arquivo de cortes para a memoria -- vetor numpy\n",
        "  with open(file_name_cortes, 'rb') as f:\n",
        "\n",
        "    # Registro para Leitura do Arquivo de COrtes\n",
        "    tam_reg = int((cortesh['lrec'] - 4 * 4 - 8 * 1)/8)\n",
        "    struct = np.dtype([('ireg', 'i4'), \\\n",
        "                       ('iter', 'i4'), \\\n",
        "                       ('isim', 'i4'), \\\n",
        "                       ('dummy', 'i4'), \\\n",
        "                       ('rhs', 'f8'), \\\n",
        "                       ('ccorte', 'f8', tam_reg) \\\n",
        "                      ])\n",
        "\n",
        "    # Leitura do arquivo de Cortes\n",
        "    cortes = np.fromfile(f, dtype=struct)\n",
        "\n",
        "  return cortes"
      ],
      "metadata": {
        "id": "cfC84kueT6q4"
      },
      "execution_count": null,
      "outputs": []
    },
    {
      "cell_type": "markdown",
      "source": [
        "#6. Escreve arquivo de cortes completo"
      ],
      "metadata": {
        "id": "yulr8WV0WFlJ"
      }
    },
    {
      "cell_type": "code",
      "source": [
        "def escreve_cortes(nome, cortes):\n",
        "\n",
        "  file_cortes = Caminho_do_Arquivo + nome\n",
        "\n",
        "  with open(file_cortes, 'wb') as f:\n",
        "    cortes.tofile(f)\n",
        "    f.close()\n",
        "\n",
        "  return"
      ],
      "metadata": {
        "id": "KPD4zy6dVvGV"
      },
      "execution_count": null,
      "outputs": []
    },
    {
      "cell_type": "markdown",
      "source": [
        "#7. Programa Principal - Só Leitura"
      ],
      "metadata": {
        "id": "_scso8-f-HrR"
      }
    },
    {
      "cell_type": "code",
      "source": [
        "# O comando abaixo chama a leitura do arquivo de cabeçalhos dos cortes\n",
        "# parametro de entrada nome do arquivo de cabecalho\n",
        "cortesh = le_cortesh('cortesh.dat')\n",
        "\n",
        "# O comando abaixo realiza a leitura dos cortes de um dado periodo\n",
        "# parametros de entrada\n",
        "#     nome do arquivo contendo os cortes\n",
        "#     dicionario de dados contendo as informaçoes dos cortes (função anterior)\n",
        "#     período no qual vc quer ler os cortes\n",
        "\n",
        "corte = le_corte('cortes.dat',cortesh,9)\n",
        "\n",
        "print(corte['piv'])"
      ],
      "metadata": {
        "colab": {
          "base_uri": "https://localhost:8080/"
        },
        "id": "GoZDpOvv-ROx",
        "outputId": "57148507-e020-490c-8fda-694d4dec8328"
      },
      "execution_count": null,
      "outputs": [
        {
          "output_type": "stream",
          "name": "stdout",
          "text": [
            "[[-2.0000000e-05 -0.0000000e+00 -0.0000000e+00 ...  0.0000000e+00\n",
            "  -1.7289959e+02 -5.2110000e-02]\n",
            " [-1.0000000e-05 -9.4268920e+01 -6.8747247e+02 ...  0.0000000e+00\n",
            "  -2.3305657e+02 -8.2750000e-02]\n",
            " [-3.0000000e-05 -0.0000000e+00 -0.0000000e+00 ...  0.0000000e+00\n",
            "  -2.0631737e+02 -2.8040000e-02]\n",
            " ...\n",
            " [ 0.0000000e+00  0.0000000e+00  0.0000000e+00 ...  0.0000000e+00\n",
            "   0.0000000e+00  0.0000000e+00]\n",
            " [ 0.0000000e+00  0.0000000e+00  0.0000000e+00 ...  0.0000000e+00\n",
            "   0.0000000e+00  0.0000000e+00]\n",
            " [ 0.0000000e+00  0.0000000e+00  0.0000000e+00 ...  0.0000000e+00\n",
            "   0.0000000e+00  0.0000000e+00]]\n"
          ]
        }
      ]
    },
    {
      "cell_type": "markdown",
      "source": [
        "# 8. Novo Programa Principal - Testando gravação"
      ],
      "metadata": {
        "id": "iRqxQMmJ-bqC"
      }
    },
    {
      "cell_type": "code",
      "source": [
        "#\n",
        "# Lê arquivos originais\n",
        "#\n",
        "cortesh = le_cortesh('cortesh.dat')\n",
        "cortes = le_corte_todo('cortes.dat', cortesh)\n",
        "\n",
        "#\n",
        "# Escreve arquivos fakes\n",
        "#\n",
        "escreve_cortesh('fakeh.dat', cortesh)\n",
        "escreve_cortes('fake.dat', cortes)\n",
        "\n",
        "#\n",
        "# Lê arquivos fakes\n",
        "#\n",
        "cortesh_fake = le_cortesh('fakeh.dat')\n",
        "corte = le_corte('cortes.dat',cortesh,9)\n",
        "corte_fake = le_corte('fake.dat',cortesh_fake,9)\n",
        "print(corte['rhs'])\n",
        "print(corte_fake['rhs'])"
      ],
      "metadata": {
        "id": "y6EFCDKl-YR0",
        "colab": {
          "base_uri": "https://localhost:8080/"
        },
        "outputId": "f0dee784-5d8f-41db-afe9-c24f7912fbb2"
      },
      "execution_count": null,
      "outputs": [
        {
          "output_type": "stream",
          "name": "stdout",
          "text": [
            "[3.34482655e+08 3.28636453e+08 3.38177084e+08 ... 0.00000000e+00\n",
            " 0.00000000e+00 0.00000000e+00]\n",
            "[3.34482655e+08 3.28636453e+08 3.38177084e+08 ... 0.00000000e+00\n",
            " 0.00000000e+00 0.00000000e+00]\n"
          ]
        }
      ]
    },
    {
      "cell_type": "code",
      "source": [
        "print(cortesh_fake.keys())"
      ],
      "metadata": {
        "colab": {
          "base_uri": "https://localhost:8080/"
        },
        "id": "O3i_kgh5oa0U",
        "outputId": "04b29111-8fe6-4a33-d3d6-601dafb1646b"
      },
      "execution_count": null,
      "outputs": [
        {
          "output_type": "stream",
          "name": "stdout",
          "text": [
            "dict_keys(['versao', 'lrec', 'lrece', 'nsis', 'npre', 'nper', 'npst', 'npea', 'nconf', 'nsim', 'npmc', 'anoi', 'mesi', 'lagmax', 'mecaver', 'nsbm', 'nnsbm', 'iptreg', 'mord', 'pconf', 'fpeng'])\n"
          ]
        }
      ]
    },
    {
      "cell_type": "code",
      "source": [
        "print(cortesh_fake['pconf'])\n",
        "print(cortesh['pconf'])"
      ],
      "metadata": {
        "colab": {
          "base_uri": "https://localhost:8080/"
        },
        "id": "wZFFV8BlohqL",
        "outputId": "57903015-9c99-4c82-bf33-80a885a2dbd0"
      },
      "execution_count": null,
      "outputs": [
        {
          "output_type": "stream",
          "name": "stdout",
          "text": [
            "[ 1  1  1  1  1  1  1  2  3  4  5  6  7  8  9 10 11 12 13 14 15 16 17 18\n",
            " 19 20 21 22 23 24 25 26 27 28 29 30 31 32 33 34 35 36 37 38 39 40 41 42\n",
            " 43 44 45 46 47 48 49 50 51 52 53 54 54 54 54 54 54 54 54 54 54 54 54 54\n",
            " 54 54 54 54 54 54 54 54 54 54 54 54 54 54 54 54 54 54 54 54 54 54 54 54\n",
            " 54 54 54 54 54 54 54 54 54 54 54 54 54 54 54 54 54 54 54 54 54 54 54 54]\n",
            "[ 1  1  1  1  1  1  1  2  3  4  5  6  7  8  9 10 11 12 13 14 15 16 17 18\n",
            " 19 20 21 22 23 24 25 26 27 28 29 30 31 32 33 34 35 36 37 38 39 40 41 42\n",
            " 43 44 45 46 47 48 49 50 51 52 53 54 54 54 54 54 54 54 54 54 54 54 54 54\n",
            " 54 54 54 54 54 54 54 54 54 54 54 54 54 54 54 54 54 54 54 54 54 54 54 54\n",
            " 54 54 54 54 54 54 54 54 54 54 54 54 54 54 54 54 54 54 54 54 54 54 54 54]\n"
          ]
        }
      ]
    },
    {
      "cell_type": "code",
      "source": [
        "def compare_binary_files(file1_path, file2_path):\n",
        "    BUFFER_SIZE = 11520  # Tamanho do bloco de leitura\n",
        "    position = 0\n",
        "\n",
        "    conta = 1\n",
        "    with open(file1_path, 'rb') as file1, open(file2_path, 'rb') as file2:\n",
        "\n",
        "        while True:\n",
        "            print(conta)\n",
        "            conta += 1\n",
        "            data1 = file1.read(BUFFER_SIZE)\n",
        "            data2 = file2.read(BUFFER_SIZE)\n",
        "\n",
        "            if data1 != data2:\n",
        "                for i, (byte1, byte2) in enumerate(zip(data1, data2)):\n",
        "                    if byte1 != byte2:\n",
        "                        print(f\"Diferença na posição {position + i}: {byte1} != {byte2}\")\n",
        "                return False\n",
        "\n",
        "            position += len(data1)\n",
        "\n",
        "            if not data1:\n",
        "                return True\n",
        "\n",
        "# Caminhos dos arquivos a serem comparados\n",
        "file1_path = Caminho_do_Arquivo + 'fakeh.dat'\n",
        "file2_path = Caminho_do_Arquivo + 'cortes.dat'\n",
        "\n",
        "if compare_binary_files(file1_path, file2_path):\n",
        "    print(\"Os arquivos são idênticos.\")\n",
        "else:\n",
        "    print(\"Os arquivos são diferentes.\")"
      ],
      "metadata": {
        "id": "GQRXkvT5BAp2"
      },
      "execution_count": null,
      "outputs": []
    }
  ]
}